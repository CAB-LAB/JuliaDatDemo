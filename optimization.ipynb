{
 "cells": [
  {
   "cell_type": "code",
   "execution_count": null,
   "metadata": {
    "collapsed": false
   },
   "outputs": [],
   "source": [
    "using CABLAB\n",
    "include(\"Optimize_NPP.jl\")\n",
    "registerDATFunction(optimize_npp,(TimeAxis,VariableAxis));\n",
    "registerDATFunction(predict_npp,((TimeAxis,VariableAxis),()),(TimeAxis,)); "
   ]
  },
  {
   "cell_type": "markdown",
   "metadata": {},
   "source": [
    "Here, we want to show how the cube and the DAT might be used for model parameter estimation. It also shows how the mapCube function can be applied on multiple input data cubes. \n",
    "\n",
    "In the file *Optimize_NPP.jl* we defined a function called **predict_npp** which predicts the ecosystem's net productivity (**NPP**) based on air temperature, fpar and radiation using a very simple model. One of the model parameters is the optimal growing temperature **Topt** at which the productivity reaches its maximum. We assume that this parameter varies across ecosystems, because they adapt to their normal environmental conditions. "
   ]
  },
  {
   "cell_type": "code",
   "execution_count": null,
   "metadata": {
    "collapsed": false
   },
   "outputs": [],
   "source": [
    "c             = Cube(\"/Net/Groups/BGI/scratch/fgans/cubecopy/datacube/\")\n",
    "vars          = [\"t2m\",\"fpar\",\"Rg\"];\n",
    "cdata         = getCubeData(c,variable=vars,longitude=(-10,35),latitude=(35,65));"
   ]
  },
  {
   "cell_type": "code",
   "execution_count": null,
   "metadata": {
    "collapsed": false
   },
   "outputs": [],
   "source": [
    "cdata_filled  = mapCube(gapFillMSC,cdata);"
   ]
  },
  {
   "cell_type": "markdown",
   "metadata": {},
   "source": [
    "In the first experiment we assume that the model parameter **Topt** equals the mean temperature of each grid cell."
   ]
  },
  {
   "cell_type": "code",
   "execution_count": null,
   "metadata": {
    "collapsed": false
   },
   "outputs": [],
   "source": [
    "tair=getCubeData(c,variable=\"t2m\",longitude=(-10,35),latitude=(35,65))\n",
    "mtair=reduceCube(mean, tair, TimeAxis, skipnull=true);"
   ]
  },
  {
   "cell_type": "markdown",
   "metadata": {},
   "source": [
    "We pass the mean air temperature mtair as a second cube argument to the **mapCube** function."
   ]
  },
  {
   "cell_type": "code",
   "execution_count": null,
   "metadata": {
    "collapsed": false
   },
   "outputs": [],
   "source": [
    "predict_nppmean=mapCube(predict_npp,(cdata_filled,mtair));"
   ]
  },
  {
   "cell_type": "markdown",
   "metadata": {},
   "source": [
    "Now, we can plot time series and maps of the predicted NEE. "
   ]
  },
  {
   "cell_type": "code",
   "execution_count": null,
   "metadata": {
    "collapsed": false
   },
   "outputs": [],
   "source": [
    "plotTS(predict_nppmean)"
   ]
  },
  {
   "cell_type": "code",
   "execution_count": null,
   "metadata": {
    "collapsed": false
   },
   "outputs": [],
   "source": [
    "using Compose\n",
    "plot = plotMAP(predict_nppmean)\n",
    "draw(SVG(\"plot.svg\", 6cm, 4cm), plot)"
   ]
  },
  {
   "cell_type": "markdown",
   "metadata": {},
   "source": [
    "Now we want to estimate the optimal growing temperature differently. Instead of just calculating the mean temperature we choose **Topt** so that the time mean of **NEE** is maximised for each gride cell. We do this by wrapping an optimization method from Julia's Optim package. "
   ]
  },
  {
   "cell_type": "code",
   "execution_count": null,
   "metadata": {
    "collapsed": false
   },
   "outputs": [],
   "source": [
    "topt=mapCube(optimize_npp,cdata_filled);"
   ]
  },
  {
   "cell_type": "markdown",
   "metadata": {},
   "source": [
    "And we get a map of the optimal growing temperature"
   ]
  },
  {
   "cell_type": "code",
   "execution_count": null,
   "metadata": {
    "collapsed": false
   },
   "outputs": [],
   "source": [
    "plotMAP(topt)"
   ]
  },
  {
   "cell_type": "markdown",
   "metadata": {},
   "source": [
    "And the resulting NEE"
   ]
  },
  {
   "cell_type": "code",
   "execution_count": null,
   "metadata": {
    "collapsed": true
   },
   "outputs": [],
   "source": [
    "predict_nppopt=mapCube(predict_npp,(cdata_filled,topt));"
   ]
  },
  {
   "cell_type": "code",
   "execution_count": null,
   "metadata": {
    "collapsed": false
   },
   "outputs": [],
   "source": [
    "plotMAP(predict_nppopt)"
   ]
  },
  {
   "cell_type": "markdown",
   "metadata": {},
   "source": [
    "In order to calculate the global map of Topt we add a few processors and repate the saem steps on the global cube"
   ]
  },
  {
   "cell_type": "code",
   "execution_count": null,
   "metadata": {
    "collapsed": false
   },
   "outputs": [],
   "source": [
    "#using ClusterBGC\n",
    "#addprocs_lsf(20,queue=\"BTM\")\n",
    "addprocs(10)\n",
    "@everywhere include(\"Optimize_NPP.jl\")"
   ]
  },
  {
   "cell_type": "code",
   "execution_count": null,
   "metadata": {
    "collapsed": false
   },
   "outputs": [],
   "source": [
    "CABLAB.DAT.init_DATworkers()"
   ]
  },
  {
   "cell_type": "code",
   "execution_count": null,
   "metadata": {
    "collapsed": false
   },
   "outputs": [],
   "source": [
    "cdata         = getCubeData(c,variable=vars);\n",
    "@time cdata_filled  = mapCube(gapFillMSC,cdata);\n",
    "@time topt=mapCube(optimize_npp,cdata_filled,max_cache=1e7);"
   ]
  },
  {
   "cell_type": "markdown",
   "metadata": {},
   "source": [
    "We can compare the optimum growing temperature (first plot) with the mean air temperature (second plot). In very cold regions you see that **Topt** is higher, probably because of the low temperatures occur when fpar and radiation are also very low and carbon uptake is not possible. "
   ]
  },
  {
   "cell_type": "code",
   "execution_count": null,
   "metadata": {
    "collapsed": false
   },
   "outputs": [],
   "source": [
    "plotMAP(topt,dmin=0.f0,dmax=30.f0)"
   ]
  },
  {
   "cell_type": "code",
   "execution_count": null,
   "metadata": {
    "collapsed": false
   },
   "outputs": [],
   "source": [
    "tair=getCubeData(c,variable=\"t2m\")\n",
    "@time mtair=reduceCube(mean, tair, TimeAxis, skipnull=true);\n",
    "plotMAP(mtair,dmin=0.f0,dmax=30.f0)"
   ]
  },
  {
   "cell_type": "code",
   "execution_count": null,
   "metadata": {
    "collapsed": false
   },
   "outputs": [],
   "source": [
    "rmprocs(workers())"
   ]
  },
  {
   "cell_type": "code",
   "execution_count": null,
   "metadata": {
    "collapsed": true
   },
   "outputs": [],
   "source": []
  }
 ],
 "metadata": {
  "anaconda-cloud": {},
  "kernelspec": {
   "display_name": "Julia 0.5.0",
   "language": "julia",
   "name": "julia-0.5"
  },
  "language_info": {
   "file_extension": ".jl",
   "mimetype": "application/julia",
   "name": "julia",
   "version": "0.5.0"
  },
  "widgets": {
   "state": {
    "0e409c48-5ce5-4956-82a5-fc2b54ae0e32": {
     "views": [
      {
       "cell_index": 9
      }
     ]
    },
    "2dafa58c-ac6d-43a1-9bd9-f9ea2a09c0b7": {
     "views": [
      {
       "cell_index": 9
      }
     ]
    },
    "34bfda79-e3f4-401c-9dd8-4a421a9196c4": {
     "views": [
      {
       "cell_index": 9
      }
     ]
    },
    "62c580d9-5902-4650-904c-2b1ace4f892a": {
     "views": [
      {
       "cell_index": 9
      }
     ]
    },
    "756afe8e-77da-44fc-a63a-369227387d60": {
     "views": [
      {
       "cell_index": 9
      }
     ]
    },
    "7f29e1a6-8437-415b-a8a4-5d7920255a7a": {
     "views": [
      {
       "cell_index": 9
      }
     ]
    },
    "806312d3-0157-4967-9251-b4384f3cee8b": {
     "views": [
      {
       "cell_index": 9
      }
     ]
    },
    "8411a7c8-e305-4497-92e7-b7a8a5a09c68": {
     "views": [
      {
       "cell_index": 9
      }
     ]
    },
    "961de2a0-9d18-41af-95f1-57a0a92ce42e": {
     "views": [
      {
       "cell_index": 9
      }
     ]
    },
    "dad271a4-e00b-404a-95db-6fab726997aa": {
     "views": [
      {
       "cell_index": 9
      }
     ]
    },
    "e377cd93-7c64-48d0-af5e-68c62889c446": {
     "views": [
      {
       "cell_index": 9
      }
     ]
    },
    "e99ae5f8-1a21-4797-b5dd-4da122d68f00": {
     "views": [
      {
       "cell_index": 9
      }
     ]
    },
    "fe12c4a7-e51d-43b4-b8ac-1d466768f004": {
     "views": [
      {
       "cell_index": 9
      }
     ]
    }
   },
   "version": "1.2.0"
  }
 },
 "nbformat": 4,
 "nbformat_minor": 0
}
